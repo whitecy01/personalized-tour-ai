{
 "cells": [
  {
   "cell_type": "code",
   "execution_count": 3,
   "id": "baa0f9fb",
   "metadata": {},
   "outputs": [
    {
     "name": "stdout",
     "output_type": "stream",
     "text": [
      "2.5.1\n",
      "True\n",
      "NVIDIA GeForce RTX 3090\n"
     ]
    }
   ],
   "source": [
    "import torch\n",
    "print(torch.__version__)\n",
    "print(torch.cuda.is_available()) \n",
    "print(torch.cuda.get_device_name(0))  \n"
   ]
  },
  {
   "cell_type": "markdown",
   "id": "15e91b60",
   "metadata": {},
   "source": [
    "### 1. 라이브러리 불러오기"
   ]
  },
  {
   "cell_type": "code",
   "execution_count": 8,
   "id": "3638870b",
   "metadata": {},
   "outputs": [],
   "source": [
    "from transformers import AutoTokenizer, AutoModelForSequenceClassification, Trainer, TrainingArguments\n",
    "from datasets import load_dataset\n",
    "import evaluate\n",
    "import numpy as np\n"
   ]
  },
  {
   "cell_type": "markdown",
   "id": "5ec75951",
   "metadata": {},
   "source": [
    "### 2. KLUE-RoBERTa 모델 & 토크나이저 로드"
   ]
  },
  {
   "cell_type": "code",
   "execution_count": 22,
   "id": "87d81795",
   "metadata": {},
   "outputs": [
    {
     "name": "stderr",
     "output_type": "stream",
     "text": [
      "Some weights of RobertaForSequenceClassification were not initialized from the model checkpoint at klue/roberta-base and are newly initialized: ['classifier.dense.bias', 'classifier.dense.weight', 'classifier.out_proj.bias', 'classifier.out_proj.weight']\n",
      "You should probably TRAIN this model on a down-stream task to be able to use it for predictions and inference.\n"
     ]
    }
   ],
   "source": [
    "model_name = \"klue/roberta-base\"\n",
    "tokenizer = AutoTokenizer.from_pretrained(model_name)\n",
    "model = AutoModelForSequenceClassification.from_pretrained(model_name, num_labels=2)"
   ]
  },
  {
   "cell_type": "markdown",
   "id": "bb56fbfa",
   "metadata": {},
   "source": [
    "### 3. NSMC 감정 데이터셋 로딩"
   ]
  },
  {
   "cell_type": "code",
   "execution_count": 23,
   "id": "90f6b6b8",
   "metadata": {},
   "outputs": [],
   "source": [
    "dataset = load_dataset(\"nsmc\", trust_remote_code=True)"
   ]
  },
  {
   "cell_type": "markdown",
   "id": "88ac31c7",
   "metadata": {},
   "source": [
    "### 4. 토큰화 처리"
   ]
  },
  {
   "cell_type": "code",
   "execution_count": null,
   "id": "27a18e7f",
   "metadata": {},
   "outputs": [
    {
     "name": "stderr",
     "output_type": "stream",
     "text": [
      "Map: 100%|██████████| 150000/150000 [00:11<00:00, 12987.36 examples/s]\n",
      "Map: 100%|██████████| 50000/50000 [00:03<00:00, 13159.21 examples/s]\n"
     ]
    }
   ],
   "source": [
    "\n",
    "def tokenize_function(examples):\n",
    "    tokens = tokenizer(\n",
    "        examples[\"document\"],\n",
    "        truncation=True,\n",
    "        padding=\"max_length\",  # ← 중요! 길이 통일\n",
    "        max_length=256\n",
    "    )\n",
    "    tokens[\"labels\"] = examples[\"label\"]\n",
    "    return tokens\n",
    "\n",
    "tokenized_datasets = dataset.map(\n",
    "    tokenize_function,\n",
    "    batched=True,\n",
    "    remove_columns=[\"document\"]  # 원래 텍스트는 제거\n",
    ")\n"
   ]
  },
  {
   "cell_type": "markdown",
   "id": "48108511",
   "metadata": {},
   "source": [
    "### 5. 정확도 평가 지표(evaluate 사용)"
   ]
  },
  {
   "cell_type": "code",
   "execution_count": 25,
   "id": "b721f22d",
   "metadata": {},
   "outputs": [],
   "source": [
    "metric = evaluate.load(\"accuracy\")\n",
    "\n",
    "def compute_metrics(eval_pred):\n",
    "    logits, labels = eval_pred\n",
    "    predictions = np.argmax(logits, axis=-1)\n",
    "    return metric.compute(predictions=predictions, references=labels)"
   ]
  },
  {
   "cell_type": "markdown",
   "id": "0ce825bc",
   "metadata": {},
   "source": [
    "### 6. 학습 설정 정의"
   ]
  },
  {
   "cell_type": "code",
   "execution_count": 26,
   "id": "11cdd815",
   "metadata": {},
   "outputs": [],
   "source": [
    "from transformers import TrainingArguments\n",
    "training_args = TrainingArguments(\n",
    "    output_dir=\"./results\",\n",
    "    eval_strategy=\"epoch\",\n",
    "    save_strategy=\"epoch\",\n",
    "    learning_rate=2e-5,\n",
    "    per_device_train_batch_size=16,\n",
    "    per_device_eval_batch_size=16,\n",
    "    num_train_epochs=3,\n",
    "    weight_decay=0.01,\n",
    "    logging_dir=\"./logs\",\n",
    "    load_best_model_at_end=True,\n",
    "    metric_for_best_model=\"accuracy\"\n",
    ")\n"
   ]
  },
  {
   "cell_type": "markdown",
   "id": "54038411",
   "metadata": {},
   "source": [
    "### 7. Trainer 생성 및 학습 실행"
   ]
  },
  {
   "cell_type": "code",
   "execution_count": 27,
   "id": "5817dfb2",
   "metadata": {},
   "outputs": [
    {
     "data": {
      "text/html": [
       "\n",
       "    <div>\n",
       "      \n",
       "      <progress value='28125' max='28125' style='width:300px; height:20px; vertical-align: middle;'></progress>\n",
       "      [28125/28125 1:31:05, Epoch 3/3]\n",
       "    </div>\n",
       "    <table border=\"1\" class=\"dataframe\">\n",
       "  <thead>\n",
       " <tr style=\"text-align: left;\">\n",
       "      <th>Epoch</th>\n",
       "      <th>Training Loss</th>\n",
       "      <th>Validation Loss</th>\n",
       "      <th>Accuracy</th>\n",
       "    </tr>\n",
       "  </thead>\n",
       "  <tbody>\n",
       "    <tr>\n",
       "      <td>1</td>\n",
       "      <td>0.267900</td>\n",
       "      <td>0.245908</td>\n",
       "      <td>0.901860</td>\n",
       "    </tr>\n",
       "    <tr>\n",
       "      <td>2</td>\n",
       "      <td>0.183800</td>\n",
       "      <td>0.258946</td>\n",
       "      <td>0.908440</td>\n",
       "    </tr>\n",
       "    <tr>\n",
       "      <td>3</td>\n",
       "      <td>0.153900</td>\n",
       "      <td>0.338521</td>\n",
       "      <td>0.909380</td>\n",
       "    </tr>\n",
       "  </tbody>\n",
       "</table><p>"
      ],
      "text/plain": [
       "<IPython.core.display.HTML object>"
      ]
     },
     "metadata": {},
     "output_type": "display_data"
    },
    {
     "data": {
      "text/plain": [
       "TrainOutput(global_step=28125, training_loss=0.21538819247775606, metrics={'train_runtime': 5466.6389, 'train_samples_per_second': 82.317, 'train_steps_per_second': 5.145, 'total_flos': 5.9199987456e+16, 'train_loss': 0.21538819247775606, 'epoch': 3.0})"
      ]
     },
     "execution_count": 27,
     "metadata": {},
     "output_type": "execute_result"
    }
   ],
   "source": [
    "from transformers import Trainer\n",
    "trainer = Trainer(\n",
    "    model=model,\n",
    "    args=training_args,\n",
    "    train_dataset=tokenized_datasets[\"train\"],\n",
    "    eval_dataset=tokenized_datasets[\"test\"],\n",
    "    compute_metrics=compute_metrics,\n",
    ")\n",
    "\n",
    "trainer.train()\n"
   ]
  },
  {
   "cell_type": "markdown",
   "id": "31b0372a",
   "metadata": {},
   "source": [
    "### 8. 모델 저장"
   ]
  },
  {
   "cell_type": "code",
   "execution_count": null,
   "id": "4d78169d",
   "metadata": {},
   "outputs": [
    {
     "data": {
      "text/plain": [
       "('./klue-roberta-nsmc-finetuned\\\\tokenizer_config.json',\n",
       " './klue-roberta-nsmc-finetuned\\\\special_tokens_map.json',\n",
       " './klue-roberta-nsmc-finetuned\\\\vocab.txt',\n",
       " './klue-roberta-nsmc-finetuned\\\\added_tokens.json',\n",
       " './klue-roberta-nsmc-finetuned\\\\tokenizer.json')"
      ]
     },
     "execution_count": 28,
     "metadata": {},
     "output_type": "execute_result"
    }
   ],
   "source": [
    "model_path = \"./klue-roberta-nsmc-finetuned\"\n",
    "trainer.save_model(model_path)\n",
    "tokenizer.save_pretrained(model_path)"
   ]
  },
  {
   "cell_type": "markdown",
   "id": "65bf2c28",
   "metadata": {},
   "source": [
    "### 감정 예측 함수"
   ]
  },
  {
   "cell_type": "code",
   "execution_count": 29,
   "id": "9decc291",
   "metadata": {},
   "outputs": [],
   "source": [
    "import torch\n",
    "\n",
    "def predict_sentiment(text):\n",
    "    inputs = tokenizer(text, return_tensors=\"pt\", truncation=True, padding=True, max_length=256)\n",
    "    inputs = {k: v.to(model.device) for k, v in inputs.items()}  # GPU에서 동작\n",
    "\n",
    "    with torch.no_grad():\n",
    "        outputs = model(**inputs)\n",
    "        probs = torch.nn.functional.softmax(outputs.logits, dim=-1)\n",
    "        label = torch.argmax(probs, dim=-1).item()\n",
    "        confidence = round(probs[0][label].item(), 4)\n",
    "\n",
    "    return {\n",
    "        \"label\": \"긍정\" if label == 1 else \"부정\",\n",
    "        \"confidence\": confidence\n",
    "    }"
   ]
  },
  {
   "cell_type": "code",
   "execution_count": 30,
   "id": "1f974a89",
   "metadata": {},
   "outputs": [
    {
     "name": "stdout",
     "output_type": "stream",
     "text": [
      "{'label': '긍정', 'confidence': 0.9975}\n",
      "{'label': '부정', 'confidence': 0.9985}\n"
     ]
    }
   ],
   "source": [
    "print(predict_sentiment(\"진짜 너무 맛있고 친절했어요!\"))\n",
    "print(predict_sentiment(\"별로예요. 다시는 안 가요.\"))\n"
   ]
  }
 ],
 "metadata": {
  "kernelspec": {
   "display_name": "personalized-tour-ai",
   "language": "python",
   "name": "python3"
  },
  "language_info": {
   "codemirror_mode": {
    "name": "ipython",
    "version": 3
   },
   "file_extension": ".py",
   "mimetype": "text/x-python",
   "name": "python",
   "nbconvert_exporter": "python",
   "pygments_lexer": "ipython3",
   "version": "3.12.4"
  }
 },
 "nbformat": 4,
 "nbformat_minor": 5
}
