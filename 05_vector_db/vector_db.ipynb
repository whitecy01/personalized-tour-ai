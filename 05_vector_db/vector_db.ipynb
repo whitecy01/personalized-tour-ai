{
 "cells": [
  {
   "cell_type": "code",
   "execution_count": 1,
   "id": "a8414aee",
   "metadata": {},
   "outputs": [
    {
     "name": "stderr",
     "output_type": "stream",
     "text": [
      "c:\\Users\\NM333-67\\anaconda3\\envs\\personalized-tour-ai\\Lib\\site-packages\\tqdm\\auto.py:21: TqdmWarning: IProgress not found. Please update jupyter and ipywidgets. See https://ipywidgets.readthedocs.io/en/stable/user_install.html\n",
      "  from .autonotebook import tqdm as notebook_tqdm\n",
      "C:\\Users\\NM333-67\\AppData\\Local\\Temp\\ipykernel_16732\\489828497.py:6: DtypeWarning: Columns (3) have mixed types. Specify dtype option on import or set low_memory=False.\n",
      "  df = pd.read_csv(\"C:/Users/NM333-67/Desktop/personalized-tour-ai/All_reviews_04_trust_score.csv\")\n"
     ]
    },
    {
     "name": "stdout",
     "output_type": "stream",
     "text": [
      "총 17757개의 신뢰 리뷰가 벡터 DB에 저장되었습니다.\n",
      "저장된 벡터 수: 17757\n"
     ]
    }
   ],
   "source": [
    "import pandas as pd\n",
    "from sentence_transformers import SentenceTransformer\n",
    "import chromadb\n",
    "\n",
    "# 1. CSV 불러오기\n",
    "df = pd.read_csv(\"C:/Users/NM333-67/Desktop/personalized-tour-ai/All_reviews_04_trust_score.csv\")\n",
    "\n",
    "# 2. 신뢰 리뷰만 필터링\n",
    "trusted_df = df[df['신뢰라벨'] == 1].dropna(subset=['리뷰내용']).reset_index(drop=True)\n",
    "texts = trusted_df['리뷰내용'].tolist()\n",
    "\n",
    "# 3. E5-multilingual 모델 로드\n",
    "model = SentenceTransformer(\"intfloat/multilingual-e5-base\")\n",
    "\n",
    "# 4. E5는 prefix 필수 (\"passage: \")\n",
    "prefixed_texts = [f\"passage: {text}\" for text in texts]\n",
    "\n",
    "# 5. 임베딩 생성\n",
    "embeddings = model.encode(prefixed_texts, convert_to_tensor=False)\n",
    "\n",
    "# 6. ChromaDB Persistent 클라이언트 및 컬렉션 생성\n",
    "# chroma_client = chromadb.Client()\n",
    "chroma_client = chromadb.PersistentClient(path=\"C:/Users/NM333-67/Desktop/personalized-tour-ai/05_vector_db/chroma_storage\")\n",
    "\n",
    "if \"trusted_reviews\" in [c.name for c in chroma_client.list_collections()]:\n",
    "    chroma_client.delete_collection(name=\"trusted_reviews\")\n",
    "\n",
    "collection = chroma_client.create_collection(name=\"trusted_reviews\")\n",
    "\n",
    "# 7. 확장 메타데이터 컬럼 지정\n",
    "metadata_columns = [\n",
    "    '가게명', '별점', '작성자',\n",
    "    '사용자총리뷰수', '총평점', '주소',\n",
    "    '리뷰 페이지', 'trust_score'\n",
    "]\n",
    "\n",
    "# 8. ChromaDB에 저장\n",
    "for i, (text, embedding) in enumerate(zip(texts, embeddings)):\n",
    "    metadata = trusted_df.iloc[i][metadata_columns].to_dict()\n",
    "    collection.add(\n",
    "        embeddings=[embedding],\n",
    "        documents=[text],\n",
    "        metadatas=[metadata],\n",
    "        ids=[str(i)]\n",
    "    )\n",
    "\n",
    "print(f\"총 {len(texts)}개의 신뢰 리뷰가 벡터 DB에 저장되었습니다.\")\n",
    "print(\"저장된 벡터 수:\", collection.count())\n"
   ]
  },
  {
   "cell_type": "code",
   "execution_count": null,
   "id": "41a0f556",
   "metadata": {},
   "outputs": [
    {
     "name": "stderr",
     "output_type": "stream",
     "text": [
      "c:\\Users\\NM333-67\\anaconda3\\envs\\personalized-tour-ai\\Lib\\site-packages\\tqdm\\auto.py:21: TqdmWarning: IProgress not found. Please update jupyter and ipywidgets. See https://ipywidgets.readthedocs.io/en/stable/user_install.html\n",
      "  from .autonotebook import tqdm as notebook_tqdm\n"
     ]
    },
    {
     "name": "stdout",
     "output_type": "stream",
     "text": [
      "컬렉션 목록: [Collection(name=trusted_reviews)]\n",
      "저장된 벡터 수: 17757\n",
      "가게명: 어보\n",
      "별점: 5.0 / 📝 작성자: ^_^\n",
      "주소: 부산 기장군 일광읍 일광로 582-22\n",
      "리뷰 페이지: https://place.map.kakao.com/2004010607#comment\n",
      "리뷰 내용: 부모님 모시고 가기 좋은 식당 같아용\n",
      "trust_score: 0.686\n",
      "────────────────────────────────────────────────────────────\n",
      "가게명: 삼원칼국수\n",
      "별점: 5.0 / 📝 작성자: IllllIl\n",
      "주소: 부산 부산진구 가야대로765번길 27 1층\n",
      "리뷰 페이지: https://place.map.kakao.com/735226808#comment\n",
      "리뷰 내용: 혼밥하기 좋은 곳 김치 매운데 맛있음..굿\n",
      "trust_score: 0.75\n",
      "────────────────────────────────────────────────────────────\n",
      "가게명: 우정\n",
      "별점: 5.0 / 📝 작성자: ㅎㅇㅎㅇ\n",
      "주소: 부산 해운대구 센텀동로 9\n",
      "리뷰 페이지: https://place.map.kakao.com/20542979#comment\n",
      "리뷰 내용: 맛있고 양 많고 혼밥하기 좋아요\n",
      "trust_score: 0.75\n",
      "────────────────────────────────────────────────────────────\n",
      "가게명: 각방\n",
      "별점: 5.0 / 📝 작성자: 호우호우\n",
      "주소: 부산 부산진구 동천로107번길 12-5 1층\n",
      "리뷰 페이지: https://place.map.kakao.com/357123994#comment\n",
      "리뷰 내용: 일단 먼저 혼밥 하시려면 여기 완전 강추함 혼밥할 수 있는 테이블 있고 가게 그렇게 크지않아서 아주 좋음 주문도 테이블에서 주문+카드결제까지 삽가능함ㅇㅇ 연어덮밥이랑 닭꼬치덮밥 시켰는데 연어 상태 생각보다 좋음 좋아요  닭꼬치는 내가 맵고짜고 단거 좋아해서 그른가 난 넘무 맛도리여쑴…싱거운거 좋아하면 따로 이야기해야할듯ㅇㅇ 옆자리에 친구 있어서 사이드 좀 얻어 먹었는데 만두는 비비고만두느낌적인 느낌? 알져? 맛도리인거 그리고 치킨 가라아게도 우리가 아는 맛이야ㅇㅇ 실패는 없을듯 마지막으로 식혜있길래 고민좀 했거든 우린 살얼음 동동식혜만 먹어서.. 그래도 식혜 못참으니깐 시켰는데 역시 실망시키지않더라 만족스러운 식사여쑴😆 재방문? 오브콜스다ㅇㅇ\n",
      "trust_score: 0.656\n",
      "────────────────────────────────────────────────────────────\n",
      "가게명: 목구멍 초량점\n",
      "별점: 5.0 / 📝 작성자: 신다윗\n",
      "주소: 부산 동구 초량중로 105-2 1층\n",
      "리뷰 페이지: https://place.map.kakao.com/1356879414#comment\n",
      "리뷰 내용: 부산 고기집에서는 괜찮아요\n",
      "trust_score: 0.628\n",
      "────────────────────────────────────────────────────────────\n"
     ]
    }
   ],
   "source": [
    "import chromadb\n",
    "from sentence_transformers import SentenceTransformer\n",
    "\n",
    "# 1. ChromaDB 디스크 클라이언트 연결\n",
    "chroma_client = chromadb.PersistentClient(path=\"C:/Users/NM333-67/Desktop/personalized-tour-ai/05_vector_db/chroma_storage\")\n",
    "collection = chroma_client.get_collection(name=\"trusted_reviews\")\n",
    "\n",
    "# 2. 컬렉션 정보 확인 (선택적)\n",
    "print(\"컬렉션 목록:\", chroma_client.list_collections())\n",
    "print(\"저장된 벡터 수:\", collection.count())\n",
    "\n",
    "# 3. 임베딩 모델 로드 (저장할 때 썼던 동일 모델이어야 함!)\n",
    "model = SentenceTransformer(\"intfloat/multilingual-e5-base\")\n",
    "\n",
    "# 4. 사용자 질문 입력\n",
    "query = \"혼밥하기 좋은 식당 알려줘\"\n",
    "\n",
    "# 5. E5 계열은 query prefix 필요\n",
    "query_embedding = model.encode(f\"query: {query}\", convert_to_tensor=False)\n",
    "\n",
    "# 6. top 5 유사 리뷰 검색\n",
    "results = collection.query(\n",
    "    query_embeddings=[query_embedding],\n",
    "    n_results=5\n",
    ")\n",
    "\n",
    "# 7. 결과 출력\n",
    "for doc, meta in zip(results['documents'][0], results['metadatas'][0]):\n",
    "    print(f\"가게명: {meta['가게명']}\")\n",
    "    print(f\"별점: {meta['별점']} / 작성자: {meta['작성자']}\")\n",
    "    print(f\"주소: {meta['주소']}\")\n",
    "    print(f\"리뷰 페이지: {meta['리뷰 페이지']}\")\n",
    "    print(f\"리뷰 내용: {doc}\")\n",
    "    print(f\"trust_score: {meta['trust_score']}\")\n",
    "    print(\"──\" * 30)\n"
   ]
  },
  {
   "cell_type": "markdown",
   "id": "0157bc13",
   "metadata": {},
   "source": [
    "### 새 데이터 추가 코드"
   ]
  },
  {
   "cell_type": "code",
   "execution_count": null,
   "id": "fd972c3f",
   "metadata": {},
   "outputs": [],
   "source": [
    "# 디스크 DB 연결\n",
    "chroma_client = chromadb.PersistentClient(path=\"C:/Users/NM333-67/Desktop/personalized-tour-ai/05_vector_db/chroma_storage\")\n",
    "collection = chroma_client.get_collection(name=\"trusted_reviews\")\n",
    "\n",
    "# 새 데이터 예시\n",
    "new_text = \"passage: 새로 등록된 맛집 리뷰 예시입니다.\"\n",
    "new_embedding = model.encode(new_text, convert_to_tensor=False)\n",
    "new_metadata = {\n",
    "    \"가게명\": \"신규맛집\",\n",
    "    \"별점\": 4.7,\n",
    "    \"작성자\": \"새로운 사용자\",\n",
    "    \"사용자총리뷰수\": 10,\n",
    "    \"총평점\": 4.8,\n",
    "    \"주소\": \"서울시 예시구\",\n",
    "    \"리뷰 페이지\": \"https://example.com\",\n",
    "    \"trust_score\": 0.95\n",
    "}\n",
    "\n",
    "# 추가\n",
    "collection.add(\n",
    "    embeddings=[new_embedding],\n",
    "    documents=[new_text],\n",
    "    metadatas=[new_metadata],\n",
    "    ids=[\"new_001\"]\n",
    ")\n",
    "\n",
    "print(\"새 데이터가 디스크 DB에 추가되었습니다.\")\n"
   ]
  }
 ],
 "metadata": {
  "kernelspec": {
   "display_name": "personalized-tour-ai",
   "language": "python",
   "name": "python3"
  },
  "language_info": {
   "codemirror_mode": {
    "name": "ipython",
    "version": 3
   },
   "file_extension": ".py",
   "mimetype": "text/x-python",
   "name": "python",
   "nbconvert_exporter": "python",
   "pygments_lexer": "ipython3",
   "version": "3.12.4"
  }
 },
 "nbformat": 4,
 "nbformat_minor": 5
}
